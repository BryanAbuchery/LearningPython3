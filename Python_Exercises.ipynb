{
 "cells": [
  {
   "cell_type": "code",
   "execution_count": 30,
   "metadata": {},
   "outputs": [
    {
     "name": "stdin",
     "output_type": "stream",
     "text": [
      "Please Enter number of fibonacci sequence:  20\n"
     ]
    },
    {
     "name": "stdout",
     "output_type": "stream",
     "text": [
      "0,1,1,2,3,5,8,13,21,34,55,89,144,233,377,610,987,1597,2584,4181,"
     ]
    }
   ],
   "source": [
    "def fibonacci():\n",
    "    \"\"\"Fibonacci numbers generator\"\"\"\n",
    "    a = int(input(\"Please Enter number of fibonacci sequence: \"))\n",
    "    b = firstnumber = 0\n",
    "    c = 1\n",
    "    while firstnumber < a:\n",
    "        print(b, end=\",\")\n",
    "        firstnumber = firstnumber + 1\n",
    "        newtotal = b + c\n",
    "        b = c\n",
    "        c = newtotal\n",
    "fibonacci()\n",
    "Fibonacci_Sequence = fibonacci()\n",
    "Fibonacci_Sequence"
   ]
  },
  {
   "cell_type": "code",
   "execution_count": 112,
   "metadata": {},
   "outputs": [
    {
     "data": {
      "text/plain": [
       "'UNDECAGONS'"
      ]
     },
     "execution_count": 112,
     "metadata": {},
     "output_type": "execute_result"
    }
   ],
   "source": [
    "def random_word():\n",
    "    \"\"\"Downloads and Picks a Random Word\"\"\"\n",
    "    import urllib.request\n",
    "    url = \"http://norvig.com/ngrams/sowpods.txt\"\n",
    "    response = urllib.request.urlopen(url)\n",
    "    data = response.read()\n",
    "    f = open('SOWPODS', 'wb')\n",
    "    f.write(data)\n",
    "    f.close\n",
    "    text = [word for line in open('SOWPODS', 'r') for word in line.split()]\n",
    "    import random\n",
    "    word = random.choice(text)\n",
    "    return word\n",
    "random_word()\n",
    "Scrabble_Words = random_word()\n",
    "Scrabble_Words"
   ]
  },
  {
   "cell_type": "code",
   "execution_count": 55,
   "metadata": {},
   "outputs": [
    {
     "name": "stdin",
     "output_type": "stream",
     "text": [
      "Please type a sentence of ANY length:  my name is Bryan\n"
     ]
    },
    {
     "data": {
      "text/plain": [
       "['Bryan', 'is', 'name', 'my']"
      ]
     },
     "execution_count": 55,
     "metadata": {},
     "output_type": "execute_result"
    }
   ],
   "source": [
    "def reverse_order():\n",
    "    \"\"\"Requests for a string, and returns it as a list in reverse order\"\"\"\n",
    "    a = input(\"Please type a sentence of ANY length: \")\n",
    "    list1 = list(a.split(\" \"))\n",
    "    #print(list1) if you want to print your new list\n",
    "    a = list1[::-1]\n",
    "    return a\n",
    "reverse_order()\n",
    "String_Reverse = reverse_order()\n",
    "String_Reverse"
   ]
  },
  {
   "cell_type": "code",
   "execution_count": 113,
   "metadata": {},
   "outputs": [
    {
     "name": "stdin",
     "output_type": "stream",
     "text": [
      "Guess any number between 1 to 9, enter 0 to exit:  8\n"
     ]
    },
    {
     "name": "stdout",
     "output_type": "stream",
     "text": [
      "You are getting hotter, out of range!\n"
     ]
    },
    {
     "name": "stdin",
     "output_type": "stream",
     "text": [
      "Guess any number between 1 to 9, enter 0 to exit:  7\n"
     ]
    },
    {
     "name": "stdout",
     "output_type": "stream",
     "text": [
      "You are getting hotter, out of range!\n"
     ]
    },
    {
     "name": "stdin",
     "output_type": "stream",
     "text": [
      "Guess any number between 1 to 9, enter 0 to exit:  6\n"
     ]
    },
    {
     "name": "stdout",
     "output_type": "stream",
     "text": [
      "You are getting hotter, out of range!\n"
     ]
    },
    {
     "name": "stdin",
     "output_type": "stream",
     "text": [
      "Guess any number between 1 to 9, enter 0 to exit:  5\n"
     ]
    },
    {
     "name": "stdout",
     "output_type": "stream",
     "text": [
      "You are getting colder, out of range!\n"
     ]
    },
    {
     "name": "stdin",
     "output_type": "stream",
     "text": [
      "Guess any number between 1 to 9, enter 0 to exit:  6\n"
     ]
    },
    {
     "name": "stdout",
     "output_type": "stream",
     "text": [
      "You are getting hotter, out of range!\n"
     ]
    },
    {
     "name": "stdin",
     "output_type": "stream",
     "text": [
      "Guess any number between 1 to 9, enter 0 to exit:  4\n"
     ]
    },
    {
     "name": "stdout",
     "output_type": "stream",
     "text": [
      "You are getting hotter, out of range!\n"
     ]
    },
    {
     "name": "stdin",
     "output_type": "stream",
     "text": [
      "Guess any number between 1 to 9, enter 0 to exit:  3\n"
     ]
    },
    {
     "name": "stdout",
     "output_type": "stream",
     "text": [
      "You are getting colder, out of range!\n"
     ]
    },
    {
     "name": "stdin",
     "output_type": "stream",
     "text": [
      "Guess any number between 1 to 9, enter 0 to exit:  5\n"
     ]
    },
    {
     "name": "stdout",
     "output_type": "stream",
     "text": [
      "You are right, congratulations!\n",
      "You have had 8 guesses\n"
     ]
    }
   ],
   "source": [
    "def game():\n",
    "    import random\n",
    "    n = int(input(\"Guess any number between 1 to 9, enter 0 to exit: \"))\n",
    "    a = random.randint(1,9)\n",
    "    guess = 0\n",
    "    while n != a:\n",
    "        if n < a and n > 0:\n",
    "            print(\"You are getting colder, out of range!\")\n",
    "            n = int(input(\"Guess any number between 1 to 9, enter 0 to exit: \"))\n",
    "            a = random.randint(1,9)\n",
    "            guess +=1\n",
    "            total = guess + 1\n",
    "            if n==0:\n",
    "                break\n",
    "        elif n > a:\n",
    "            print(\"You are getting hotter, out of range!\")\n",
    "            n = int(input(\"Guess any number between 1 to 9, enter 0 to exit: \"))\n",
    "            a = random.randint(1,9)\n",
    "            guess +=1\n",
    "            total = guess + 1\n",
    "            if n==0:\n",
    "                break\n",
    "        elif n == a:\n",
    "            print(\"You are right, congrtulations!\")\n",
    "            guess +=1\n",
    "            total = guess + 1\n",
    "            break\n",
    "    else:\n",
    "        print(\"You are right, congratulations!\")\n",
    "    print(\"You have had %d guesses\" %total)\n",
    "game()\n",
    "Guessing_Game = game()\n",
    "Guessing_Game"
   ]
  },
  {
   "cell_type": "code",
   "execution_count": 85,
   "metadata": {},
   "outputs": [
    {
     "data": {
      "text/plain": [
       "[1, 2, 3, 5, 8, 13]"
      ]
     },
     "execution_count": 85,
     "metadata": {},
     "output_type": "execute_result"
    }
   ],
   "source": [
    "a = [1, 1, 2, 3, 5, 8, 13, 21, 34, 55, 89]\n",
    "b = [1, 2, 3, 4, 5, 6, 7, 8, 9, 10, 11, 12, 13]\n",
    "def common_list(a, b):\n",
    "    set_a = set(a)\n",
    "    set_b = set(b)\n",
    "    intersection = set_a.intersection(set_b)\n",
    "    common_list = list(intersection)\n",
    "    return common_list\n",
    "common_list(a, b)"
   ]
  },
  {
   "cell_type": "code",
   "execution_count": 158,
   "metadata": {},
   "outputs": [
    {
     "name": "stdout",
     "output_type": "stream",
     "text": [
      "This function checks and brings a common list between any of your two lists\n"
     ]
    },
    {
     "name": "stdin",
     "output_type": "stream",
     "text": [
      "Enter the first list of numbers separated by space:  1 2 3 4 5 6 7 8 9\n",
      "Enter the second list of numbers separated by space:  4 5 6 7 8\n"
     ]
    },
    {
     "data": {
      "text/plain": [
       "['6', '7', '5', '4', '8']"
      ]
     },
     "execution_count": 158,
     "metadata": {},
     "output_type": "execute_result"
    }
   ],
   "source": [
    "def common_list1():\n",
    "    print(\"This function checks and brings a common list between any of your two lists\")\n",
    "    a = input(\"Enter the first list of numbers separated by space: \")\n",
    "    b = input(\"Enter the second list of numbers separated by space: \")\n",
    "    a_list = a.split()\n",
    "    b_list = b.split()\n",
    "    set_a = set(a_list)\n",
    "    set_b = set(b_list)\n",
    "    intersection = set_a.intersection(set_b)\n",
    "    common_list = list(intersection)\n",
    "    return common_list\n",
    "common_list1()\n",
    "Common_List = common_list1()\n",
    "Common_List"
   ]
  },
  {
   "cell_type": "code",
   "execution_count": 101,
   "metadata": {},
   "outputs": [
    {
     "name": "stdin",
     "output_type": "stream",
     "text": [
      "Please enter any integer:  23\n"
     ]
    },
    {
     "name": "stdout",
     "output_type": "stream",
     "text": [
      "Prime numbers between 0 and 23 are:\n",
      "2,3,5,7,11,13,17,19,23,"
     ]
    }
   ],
   "source": [
    "def prime_numbers():\n",
    "    a = 0\n",
    "    n = int(input(\"Please enter any integer: \"))\n",
    "    print(\"Prime numbers between\", a, \"and\", n, \"are:\")\n",
    "    for num in range(a, n + 1):\n",
    "        if num > 1:\n",
    "            for i in range(2, num):\n",
    "                if (num % i) == 0:\n",
    "                    break\n",
    "            else:\n",
    "                print(num, end=\",\")\n",
    "prime_numbers()\n",
    "Prime_Sequence = prime_numbers()\n",
    "Prime_Sequence"
   ]
  },
  {
   "cell_type": "code",
   "execution_count": 111,
   "metadata": {},
   "outputs": [
    {
     "name": "stdin",
     "output_type": "stream",
     "text": [
      "Please enter any integer to check if it is a Prime Number:  6\n"
     ]
    },
    {
     "name": "stdout",
     "output_type": "stream",
     "text": [
      "6 is not a Prime Number\n"
     ]
    }
   ],
   "source": [
    "def prime_checker():\n",
    "    b = int(input(\"Please enter any integer to check if it is a Prime Number: \"))\n",
    "    if b > 1:\n",
    "        for i in range(2, b // 2):\n",
    "            if (b % i) == 0:\n",
    "                print(b, \"is not a Prime Number\")\n",
    "                break\n",
    "            else:\n",
    "                print(b, \"is a Prime Number\")\n",
    "        else:\n",
    "            print(b, \"is not a Prime Number\")\n",
    "prime_checker()\n",
    "Prime_Checker = prime_checker()\n",
    "Prime_Checker"
   ]
  },
  {
   "cell_type": "code",
   "execution_count": 145,
   "metadata": {},
   "outputs": [
    {
     "data": {
      "text/plain": [
       "('Your strong password option is', 'eq@GQHIk8)M;k')"
      ]
     },
     "execution_count": 145,
     "metadata": {},
     "output_type": "execute_result"
    }
   ],
   "source": [
    "def passwords():\n",
    "    import random\n",
    "    import string\n",
    "    #choice = input(\"Please Enter 'a' to pick a strong password or 'b' to pick a weak password: \")\n",
    "    random_word = string.ascii_letters + string.digits + string.punctuation\n",
    "    password = random.choice(string.ascii_lowercase)\n",
    "    password += random.choice(string.ascii_uppercase)\n",
    "    password += random.choice(string.digits)\n",
    "    password += random.choice(string.punctuation)\n",
    "    for i in range(9):\n",
    "        password += random.choice(random_word)\n",
    "    password_list = list(password)\n",
    "    random.SystemRandom().shuffle(password_list)\n",
    "    password = ''.join(password_list)\n",
    "    return (\"Your strong password option is\", password)\n",
    "passwords()\n",
    "Password_Generator = passwords()\n",
    "Password_Generator"
   ]
  },
  {
   "cell_type": "code",
   "execution_count": 147,
   "metadata": {},
   "outputs": [
    {
     "name": "stdin",
     "output_type": "stream",
     "text": [
      "Please enter any item list here, including numbers:  3 3 4 5 66 5 3 2 2 44 6 7 7 8 9\n"
     ]
    },
    {
     "name": "stdout",
     "output_type": "stream",
     "text": [
      "I will now eliminate any duplicates from your list\n"
     ]
    },
    {
     "data": {
      "text/plain": [
       "['44', '6', '3', '7', '5', '4', '2', '66', '9', '8']"
      ]
     },
     "execution_count": 147,
     "metadata": {},
     "output_type": "execute_result"
    }
   ],
   "source": [
    "def remove_duplicates():\n",
    "    a = input(\"Please enter any item list here, including numbers: \")\n",
    "    print(\"I will now eliminate any duplicates from your list\")\n",
    "    list_a = list(a.split(\" \"))\n",
    "    set_a = set(list_a)\n",
    "    b = list(set_a)\n",
    "    return b\n",
    "remove_duplicates()\n",
    "Remove_Duplicates = remove_duplicates()\n",
    "Remove_Duplicates"
   ]
  },
  {
   "cell_type": "code",
   "execution_count": 150,
   "metadata": {},
   "outputs": [
    {
     "name": "stdin",
     "output_type": "stream",
     "text": [
      "Enter your name:  Bryan Abuchery\n",
      "Enter your age:  25\n"
     ]
    },
    {
     "data": {
      "text/plain": [
       "('You will turn 100 years old in the year;', 2095)"
      ]
     },
     "execution_count": 150,
     "metadata": {},
     "output_type": "execute_result"
    }
   ],
   "source": [
    "def future_you():\n",
    "    name = input(\"Enter your name: \")\n",
    "    age = int(input(\"Enter your age: \"))\n",
    "    total = 2020\n",
    "    a = 100 - age\n",
    "    new_total = total + a\n",
    "    return (\"You will turn 100 years old in the year;\", new_total)\n",
    "future_you()\n",
    "Future_You = future_you()\n",
    "Future_You"
   ]
  },
  {
   "cell_type": "code",
   "execution_count": 156,
   "metadata": {},
   "outputs": [
    {
     "name": "stdin",
     "output_type": "stream",
     "text": [
      "Please enter a word that you think is palindromic:  civic\n"
     ]
    },
    {
     "name": "stdout",
     "output_type": "stream",
     "text": [
      "civic IS a palindrome\n"
     ]
    }
   ],
   "source": [
    "def check_palindrome():\n",
    "    a = input(\"Please enter a word that you think is palindromic: \")\n",
    "    rev_a = reversed(a)\n",
    "    if list(a) == list(rev_a):\n",
    "        print(\"%s IS a palindrome\" %(a))\n",
    "    else:\n",
    "        print(\"%s is NOT a Palindrome\" %(a))\n",
    "check_palindrome()\n",
    "Palindromes = check_palindrome()\n",
    "Palindromes"
   ]
  },
  {
   "cell_type": "code",
   "execution_count": 159,
   "metadata": {},
   "outputs": [],
   "source": [
    "with open(\"BRYAN.py\", \"w\") as myfile:\n",
    "    myfile.write(\"#These are my self created modules from different exercises\")\n",
    "    myfile.close\n"
   ]
  },
  {
   "cell_type": "code",
   "execution_count": 160,
   "metadata": {},
   "outputs": [],
   "source": [
    "import pathlib"
   ]
  },
  {
   "cell_type": "code",
   "execution_count": 161,
   "metadata": {},
   "outputs": [],
   "source": [
    "import shutil"
   ]
  },
  {
   "cell_type": "code",
   "execution_count": 162,
   "metadata": {},
   "outputs": [],
   "source": [
    "import os"
   ]
  },
  {
   "cell_type": "code",
   "execution_count": 163,
   "metadata": {},
   "outputs": [
    {
     "data": {
      "text/plain": [
       "'/home/abuchery/Documents/LearningPython3/portal-teachingdb-master'"
      ]
     },
     "execution_count": 163,
     "metadata": {},
     "output_type": "execute_result"
    }
   ],
   "source": [
    "os.getcwd()"
   ]
  },
  {
   "cell_type": "code",
   "execution_count": null,
   "metadata": {},
   "outputs": [],
   "source": []
  }
 ],
 "metadata": {
  "kernelspec": {
   "display_name": "Python 3",
   "language": "python",
   "name": "python3"
  },
  "language_info": {
   "codemirror_mode": {
    "name": "ipython",
    "version": 3
   },
   "file_extension": ".py",
   "mimetype": "text/x-python",
   "name": "python",
   "nbconvert_exporter": "python",
   "pygments_lexer": "ipython3",
   "version": "3.8.5"
  }
 },
 "nbformat": 4,
 "nbformat_minor": 4
}
