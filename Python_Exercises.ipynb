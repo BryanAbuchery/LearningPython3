{
 "cells": [
  {
   "cell_type": "code",
   "execution_count": 30,
   "metadata": {},
   "outputs": [
    {
     "name": "stdin",
     "output_type": "stream",
     "text": [
      "Please Enter number of fibonacci sequence:  20\n"
     ]
    },
    {
     "name": "stdout",
     "output_type": "stream",
     "text": [
      "0,1,1,2,3,5,8,13,21,34,55,89,144,233,377,610,987,1597,2584,4181,"
     ]
    }
   ],
   "source": [
    "def fibonacci():\n",
    "    \"\"\"Fibonacci numbers generator\"\"\"\n",
    "    a = int(input(\"Please Enter number of fibonacci sequence: \"))\n",
    "    b = firstnumber = 0\n",
    "    c = 1\n",
    "    while firstnumber < a:\n",
    "        print(b, end=\",\")\n",
    "        firstnumber = firstnumber + 1\n",
    "        newtotal = b + c\n",
    "        b = c\n",
    "        c = newtotal\n",
    "fibonacci()"
   ]
  },
  {
   "cell_type": "code",
   "execution_count": 38,
   "metadata": {},
   "outputs": [
    {
     "data": {
      "text/plain": [
       "'SKETCHES'"
      ]
     },
     "execution_count": 38,
     "metadata": {},
     "output_type": "execute_result"
    }
   ],
   "source": [
    "def random_word():\n",
    "    \"\"\"Downloads and Picks a Random Word\"\"\"\n",
    "    import urllib.request\n",
    "    url = \"http://norvig.com/ngrams/sowpods.txt\"\n",
    "    response = urllib.request.urlopen(url)\n",
    "    data = response.read()\n",
    "    f = open('SOWPODS', 'wb')\n",
    "    f.write(data)\n",
    "    f.close\n",
    "    text = [word for line in open('SOWPODS', 'r') for word in line.split()]\n",
    "    import random\n",
    "    word = random.choice(text)\n",
    "    return word\n",
    "random_word()"
   ]
  },
  {
   "cell_type": "code",
   "execution_count": 55,
   "metadata": {},
   "outputs": [
    {
     "name": "stdin",
     "output_type": "stream",
     "text": [
      "Please type a sentence of ANY length:  my name is Bryan\n"
     ]
    },
    {
     "data": {
      "text/plain": [
       "['Bryan', 'is', 'name', 'my']"
      ]
     },
     "execution_count": 55,
     "metadata": {},
     "output_type": "execute_result"
    }
   ],
   "source": [
    "def reverse_order():\n",
    "    \"\"\"Requests for a string, and returns it as a list in reverse order\"\"\"\n",
    "    a = input(\"Please type a sentence of ANY length: \")\n",
    "    list1 = list(a.split(\" \"))\n",
    "    #print(list1) if you want to print your new list\n",
    "    a = list1[::-1]\n",
    "    return a\n",
    "reverse_order()"
   ]
  },
  {
   "cell_type": "code",
   "execution_count": 82,
   "metadata": {},
   "outputs": [
    {
     "name": "stdin",
     "output_type": "stream",
     "text": [
      "Guess any number between 1 to 9, enter 0 to exit:  8\n"
     ]
    },
    {
     "name": "stdout",
     "output_type": "stream",
     "text": [
      "You are getting colder, out of range!\n"
     ]
    },
    {
     "name": "stdin",
     "output_type": "stream",
     "text": [
      "Guess any number between 1 to 9, enter 0 to exit:  9\n"
     ]
    },
    {
     "name": "stdout",
     "output_type": "stream",
     "text": [
      "You have had 2 guesses\n"
     ]
    }
   ],
   "source": [
    "def game():\n",
    "    import random\n",
    "    n = int(input(\"Guess any number between 1 to 9, enter 0 to exit: \"))\n",
    "    a = random.randint(1,9)\n",
    "    guess = 0\n",
    "    while n != a:\n",
    "        if n < a and n > 0:\n",
    "            print(\"You are getting colder, out of range!\")\n",
    "            n = int(input(\"Guess any number between 1 to 9, enter 0 to exit: \"))\n",
    "            guess +=1\n",
    "            total = guess + 1\n",
    "            if n==0:\n",
    "                break\n",
    "            #a = random.randint(0,10)\n",
    "        elif n > a:\n",
    "            print(\"You are getting hotter, out of range!\")\n",
    "            n = int(input(\"Guess any number between 1 to 9, enter 0 to exit: \"))\n",
    "            guess +=1\n",
    "            total = guess + 1\n",
    "            if n==0:\n",
    "                break\n",
    "            #a = random.randint(0,10)\n",
    "        elif n == a:\n",
    "            guess +=1\n",
    "            total = guess + 1\n",
    "            break\n",
    "            print(\"You are right, congrtulations!\")\n",
    "    print(\"You have had %d guesses\" %total)\n",
    "game()"
   ]
  },
  {
   "cell_type": "code",
   "execution_count": null,
   "metadata": {},
   "outputs": [],
   "source": []
  }
 ],
 "metadata": {
  "kernelspec": {
   "display_name": "Python 3",
   "language": "python",
   "name": "python3"
  },
  "language_info": {
   "codemirror_mode": {
    "name": "ipython",
    "version": 3
   },
   "file_extension": ".py",
   "mimetype": "text/x-python",
   "name": "python",
   "nbconvert_exporter": "python",
   "pygments_lexer": "ipython3",
   "version": "3.8.5"
  }
 },
 "nbformat": 4,
 "nbformat_minor": 4
}
