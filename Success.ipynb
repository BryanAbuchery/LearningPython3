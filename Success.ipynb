{
 "cells": [
  {
   "cell_type": "code",
   "execution_count": 2,
   "metadata": {},
   "outputs": [],
   "source": [
    "import BRYAN"
   ]
  },
  {
   "cell_type": "code",
   "execution_count": 3,
   "metadata": {},
   "outputs": [
    {
     "name": "stdout",
     "output_type": "stream",
     "text": [
      "Help on module BRYAN:\n",
      "\n",
      "NAME\n",
      "    BRYAN - #These are my self created modules from different exercises\n",
      "\n",
      "FUNCTIONS\n",
      "    check_palindrome()\n",
      "        Checks if your input word is a palindrome\n",
      "    \n",
      "    common_list1()\n",
      "        Checks for a common items in two lists\n",
      "    \n",
      "    fibonacci()\n",
      "        Fibonacci numbers generator\n",
      "    \n",
      "    future_you()\n",
      "        Tells you the year you turn 100 years old\n",
      "    \n",
      "    game()\n",
      "        Introduces a guessing game for you to guess the correct random number generated\n",
      "    \n",
      "    passwords()\n",
      "        Generates for you the strongest passwords for use\n",
      "    \n",
      "    prime_checker()\n",
      "        Checks if your input is a prime number\n",
      "    \n",
      "    prime_numbers()\n",
      "        Prints out a sequence of prime numbers limited by your input\n",
      "    \n",
      "    random_word()\n",
      "        Downloads and Picks a Random Word\n",
      "    \n",
      "    remove_duplicates()\n",
      "        Removes all duplicates from your list\n",
      "    \n",
      "    reverse_order()\n",
      "        Requests for a string, and returns it as a list in reverse order\n",
      "\n",
      "FILE\n",
      "    /home/abuchery/.local/lib/python3.8/site-packages/BRYAN.py\n",
      "\n",
      "\n"
     ]
    }
   ],
   "source": [
    "help(BRYAN)"
   ]
  },
  {
   "cell_type": "code",
   "execution_count": 4,
   "metadata": {},
   "outputs": [],
   "source": [
    "from BRYAN import game"
   ]
  },
  {
   "cell_type": "code",
   "execution_count": 5,
   "metadata": {},
   "outputs": [
    {
     "name": "stdin",
     "output_type": "stream",
     "text": [
      "Guess any number between 1 to 9, enter 0 to exit:  7\n"
     ]
    },
    {
     "name": "stdout",
     "output_type": "stream",
     "text": [
      "You are getting colder, out of range!\n"
     ]
    },
    {
     "name": "stdin",
     "output_type": "stream",
     "text": [
      "Guess any number between 1 to 9, enter 0 to exit:  7\n"
     ]
    },
    {
     "name": "stdout",
     "output_type": "stream",
     "text": [
      "You are getting hotter, out of range!\n"
     ]
    },
    {
     "name": "stdin",
     "output_type": "stream",
     "text": [
      "Guess any number between 1 to 9, enter 0 to exit:  0\n"
     ]
    },
    {
     "name": "stdout",
     "output_type": "stream",
     "text": [
      "You have had 3 guesses\n"
     ]
    }
   ],
   "source": [
    "game()"
   ]
  },
  {
   "cell_type": "code",
   "execution_count": 7,
   "metadata": {},
   "outputs": [],
   "source": [
    "from BRYAN import fibonacci"
   ]
  },
  {
   "cell_type": "code",
   "execution_count": 8,
   "metadata": {},
   "outputs": [
    {
     "name": "stdin",
     "output_type": "stream",
     "text": [
      "Please Enter number of fibonacci sequence:  9\n"
     ]
    },
    {
     "name": "stdout",
     "output_type": "stream",
     "text": [
      "0,1,1,2,3,5,8,13,21,"
     ]
    }
   ],
   "source": [
    "fibonacci()"
   ]
  },
  {
   "cell_type": "code",
   "execution_count": 9,
   "metadata": {},
   "outputs": [],
   "source": [
    "from BRYAN import passwords"
   ]
  },
  {
   "cell_type": "code",
   "execution_count": 10,
   "metadata": {},
   "outputs": [
    {
     "data": {
      "text/plain": [
       "('Your strong password option is', 'Gvy5Vn?X{}Jw~')"
      ]
     },
     "execution_count": 10,
     "metadata": {},
     "output_type": "execute_result"
    }
   ],
   "source": [
    "passwords()"
   ]
  },
  {
   "cell_type": "code",
   "execution_count": 11,
   "metadata": {},
   "outputs": [
    {
     "name": "stdin",
     "output_type": "stream",
     "text": [
      "Guess any number between 1 to 9, enter 0 to exit:  2\n"
     ]
    },
    {
     "name": "stdout",
     "output_type": "stream",
     "text": [
      "You are getting colder, out of range!\n"
     ]
    },
    {
     "name": "stdin",
     "output_type": "stream",
     "text": [
      "Guess any number between 1 to 9, enter 0 to exit:  2\n"
     ]
    },
    {
     "name": "stdout",
     "output_type": "stream",
     "text": [
      "You are getting colder, out of range!\n"
     ]
    },
    {
     "name": "stdin",
     "output_type": "stream",
     "text": [
      "Guess any number between 1 to 9, enter 0 to exit:  2\n"
     ]
    },
    {
     "name": "stdout",
     "output_type": "stream",
     "text": [
      "You are getting colder, out of range!\n"
     ]
    },
    {
     "name": "stdin",
     "output_type": "stream",
     "text": [
      "Guess any number between 1 to 9, enter 0 to exit:  6\n"
     ]
    },
    {
     "name": "stdout",
     "output_type": "stream",
     "text": [
      "You are getting hotter, out of range!\n"
     ]
    },
    {
     "name": "stdin",
     "output_type": "stream",
     "text": [
      "Guess any number between 1 to 9, enter 0 to exit:  5\n"
     ]
    },
    {
     "name": "stdout",
     "output_type": "stream",
     "text": [
      "You are getting hotter, out of range!\n"
     ]
    },
    {
     "name": "stdin",
     "output_type": "stream",
     "text": [
      "Guess any number between 1 to 9, enter 0 to exit:  8\n"
     ]
    },
    {
     "name": "stdout",
     "output_type": "stream",
     "text": [
      "You are right, congratulations!\n",
      "You have had 6 guesses\n"
     ]
    }
   ],
   "source": [
    "game()"
   ]
  },
  {
   "cell_type": "code",
   "execution_count": 12,
   "metadata": {},
   "outputs": [],
   "source": [
    "from BRYAN import future_you"
   ]
  },
  {
   "cell_type": "code",
   "execution_count": 13,
   "metadata": {},
   "outputs": [
    {
     "name": "stdin",
     "output_type": "stream",
     "text": [
      "Enter your name:  Bryan Abuchery\n",
      "Enter your age:  35\n"
     ]
    },
    {
     "data": {
      "text/plain": [
       "('You will turn 100 years old in the year;', 2085)"
      ]
     },
     "execution_count": 13,
     "metadata": {},
     "output_type": "execute_result"
    }
   ],
   "source": [
    "future_you()"
   ]
  },
  {
   "cell_type": "code",
   "execution_count": null,
   "metadata": {},
   "outputs": [],
   "source": []
  }
 ],
 "metadata": {
  "kernelspec": {
   "display_name": "Python 3",
   "language": "python",
   "name": "python3"
  },
  "language_info": {
   "codemirror_mode": {
    "name": "ipython",
    "version": 3
   },
   "file_extension": ".py",
   "mimetype": "text/x-python",
   "name": "python",
   "nbconvert_exporter": "python",
   "pygments_lexer": "ipython3",
   "version": "3.8.5"
  }
 },
 "nbformat": 4,
 "nbformat_minor": 4
}
